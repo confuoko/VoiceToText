{
 "cells": [
  {
   "metadata": {
    "ExecuteTime": {
     "end_time": "2024-12-26T16:22:08.633074Z",
     "start_time": "2024-12-26T16:22:08.569528Z"
    }
   },
   "cell_type": "code",
   "source": [
    "import redis\n",
    "\n",
    "# Подключаемся к Redis (который запущен через Docker на localhost)\n",
    "conn = redis.Redis(\n",
    "    host='localhost',  # Локальный хост, так как Redis работает в Docker\n",
    "    port=6379,         # Стандартный порт Redis\n",
    "    decode_responses=True\n",
    ")\n",
    "\n",
    "# Проверка соединения с Redis\n",
    "def check_redis_connection():\n",
    "    try:\n",
    "        conn.ping()  # Пингируем Redis, чтобы проверить соединение\n",
    "        print(\"Connected to Redis successfully!\")\n",
    "    except redis.ConnectionError as e:\n",
    "        print(f\"Failed to connect to Redis: {e}\")\n",
    "\n",
    "check_redis_connection()\n"
   ],
   "id": "7ed5d388b08c7947",
   "outputs": [
    {
     "name": "stdout",
     "output_type": "stream",
     "text": [
      "Connected to Redis successfully!\n"
     ]
    }
   ],
   "execution_count": 1
  },
  {
   "metadata": {
    "ExecuteTime": {
     "end_time": "2024-12-26T16:22:17.782668Z",
     "start_time": "2024-12-26T16:22:12.775374Z"
    }
   },
   "cell_type": "code",
   "source": [
    "from time import sleep\n",
    "import time\n",
    "\n",
    "# Обработка задач без RQ (последовательно)\n",
    "def process_task_sequential(task_id):\n",
    "    sleep(1)  # Имитируем выполнение задачи\n",
    "    return f\"Task {task_id} completed.\"\n",
    "\n",
    "# Замер времени без RQ\n",
    "start_time = time.time()\n",
    "results_sequential = []\n",
    "for i in range(5):  # Уменьшаем количество задач для быстрого теста\n",
    "    results_sequential.append(process_task_sequential(i))\n",
    "end_time = time.time()\n",
    "elapsed_time_sequential = end_time - start_time\n",
    "print(f\"Time taken sequentially: {elapsed_time_sequential} seconds.\")\n"
   ],
   "id": "b3c1331aeae147cc",
   "outputs": [
    {
     "name": "stdout",
     "output_type": "stream",
     "text": [
      "Time taken sequentially: 5.00351881980896 seconds.\n"
     ]
    }
   ],
   "execution_count": 2
  },
  {
   "metadata": {
    "ExecuteTime": {
     "end_time": "2024-12-26T16:22:22.123971Z",
     "start_time": "2024-12-26T16:22:20.583163Z"
    }
   },
   "cell_type": "code",
   "source": "!pip install dill",
   "id": "4c73550120fa8f6a",
   "outputs": [
    {
     "name": "stdout",
     "output_type": "stream",
     "text": [
      "Requirement already satisfied: dill in c:\\users\\nataliia\\desktop\\bitrixwork\\voicetotext\\.venv\\lib\\site-packages (0.3.9)\n"
     ]
    },
    {
     "name": "stderr",
     "output_type": "stream",
     "text": [
      "\n",
      "[notice] A new release of pip is available: 23.2.1 -> 24.3.1\n",
      "[notice] To update, run: python.exe -m pip install --upgrade pip\n"
     ]
    }
   ],
   "execution_count": 3
  },
  {
   "metadata": {
    "ExecuteTime": {
     "end_time": "2024-12-26T16:22:27.070731Z",
     "start_time": "2024-12-26T16:22:25.507689Z"
    }
   },
   "cell_type": "code",
   "source": "!pip install celery redis",
   "id": "8c70febd039b57c8",
   "outputs": [
    {
     "name": "stdout",
     "output_type": "stream",
     "text": [
      "Requirement already satisfied: celery in c:\\users\\nataliia\\desktop\\bitrixwork\\voicetotext\\.venv\\lib\\site-packages (5.4.0)\n",
      "Requirement already satisfied: redis in c:\\users\\nataliia\\desktop\\bitrixwork\\voicetotext\\.venv\\lib\\site-packages (5.2.1)\n",
      "Requirement already satisfied: billiard<5.0,>=4.2.0 in c:\\users\\nataliia\\desktop\\bitrixwork\\voicetotext\\.venv\\lib\\site-packages (from celery) (4.2.1)\n",
      "Requirement already satisfied: kombu<6.0,>=5.3.4 in c:\\users\\nataliia\\desktop\\bitrixwork\\voicetotext\\.venv\\lib\\site-packages (from celery) (5.4.2)\n",
      "Requirement already satisfied: vine<6.0,>=5.1.0 in c:\\users\\nataliia\\desktop\\bitrixwork\\voicetotext\\.venv\\lib\\site-packages (from celery) (5.1.0)\n",
      "Requirement already satisfied: click<9.0,>=8.1.2 in c:\\users\\nataliia\\desktop\\bitrixwork\\voicetotext\\.venv\\lib\\site-packages (from celery) (8.1.8)\n",
      "Requirement already satisfied: click-didyoumean>=0.3.0 in c:\\users\\nataliia\\desktop\\bitrixwork\\voicetotext\\.venv\\lib\\site-packages (from celery) (0.3.1)\n",
      "Requirement already satisfied: click-repl>=0.2.0 in c:\\users\\nataliia\\desktop\\bitrixwork\\voicetotext\\.venv\\lib\\site-packages (from celery) (0.3.0)\n",
      "Requirement already satisfied: click-plugins>=1.1.1 in c:\\users\\nataliia\\desktop\\bitrixwork\\voicetotext\\.venv\\lib\\site-packages (from celery) (1.1.1)\n",
      "Requirement already satisfied: tzdata>=2022.7 in c:\\users\\nataliia\\desktop\\bitrixwork\\voicetotext\\.venv\\lib\\site-packages (from celery) (2024.2)\n",
      "Requirement already satisfied: python-dateutil>=2.8.2 in c:\\users\\nataliia\\desktop\\bitrixwork\\voicetotext\\.venv\\lib\\site-packages (from celery) (2.9.0.post0)\n",
      "Requirement already satisfied: colorama in c:\\users\\nataliia\\desktop\\bitrixwork\\voicetotext\\.venv\\lib\\site-packages (from click<9.0,>=8.1.2->celery) (0.4.6)\n",
      "Requirement already satisfied: prompt-toolkit>=3.0.36 in c:\\users\\nataliia\\desktop\\bitrixwork\\voicetotext\\.venv\\lib\\site-packages (from click-repl>=0.2.0->celery) (3.0.48)\n",
      "Requirement already satisfied: amqp<6.0.0,>=5.1.1 in c:\\users\\nataliia\\desktop\\bitrixwork\\voicetotext\\.venv\\lib\\site-packages (from kombu<6.0,>=5.3.4->celery) (5.3.1)\n",
      "Requirement already satisfied: six>=1.5 in c:\\users\\nataliia\\desktop\\bitrixwork\\voicetotext\\.venv\\lib\\site-packages (from python-dateutil>=2.8.2->celery) (1.17.0)\n",
      "Requirement already satisfied: wcwidth in c:\\users\\nataliia\\desktop\\bitrixwork\\voicetotext\\.venv\\lib\\site-packages (from prompt-toolkit>=3.0.36->click-repl>=0.2.0->celery) (0.2.13)\n"
     ]
    },
    {
     "name": "stderr",
     "output_type": "stream",
     "text": [
      "\n",
      "[notice] A new release of pip is available: 23.2.1 -> 24.3.1\n",
      "[notice] To update, run: python.exe -m pip install --upgrade pip\n"
     ]
    }
   ],
   "execution_count": 4
  },
  {
   "metadata": {
    "ExecuteTime": {
     "end_time": "2024-12-26T16:22:40.551991Z",
     "start_time": "2024-12-26T16:22:35.276176Z"
    }
   },
   "cell_type": "code",
   "source": [
    "import time\n",
    "from celery import Celery\n",
    "\n",
    "# Создаем приложение Celery с настройками для Redis\n",
    "app = Celery('tasks', broker='redis://localhost:6379/0', backend='redis://localhost:6379/0')\n",
    "\n",
    "# Функция, которую будем использовать как задачу\n",
    "@app.task\n",
    "def process_task(task_id):\n",
    "    time.sleep(1)\n",
    "    return f\"Task {task_id} completed.\"\n",
    "\n",
    "# Запуск задачи через Celery (последовательно)\n",
    "start_time = time.time()\n",
    "results_seq = [process_task(i) for i in range(5)]\n",
    "end_time = time.time()\n",
    "elapsed_time_seq = end_time - start_time\n",
    "print(f\"Time taken without Celery (sequential): {elapsed_time_seq} seconds.\")\n",
    "\n",
    "# Запуск задач через Celery (асинхронно)\n",
    "start_time = time.time()\n",
    "results_celery = []\n",
    "\n",
    "for i in range(5):\n",
    "    result = process_task.apply_async(args=[i])\n",
    "    results_celery.append(result)\n",
    "\n",
    "# Получаем результаты выполнения задач\n",
    "for result in results_celery:\n",
    "    print(f\"Result: {result.result}\")  # Теперь Celery должен вернуть результат\n",
    "\n",
    "end_time = time.time()\n",
    "elapsed_time_celery = end_time - start_time\n",
    "print(f\"Time taken with Celery (queue): {elapsed_time_celery} seconds.\")\n"
   ],
   "id": "9a93cdc47794e107",
   "outputs": [
    {
     "name": "stdout",
     "output_type": "stream",
     "text": [
      "Time taken without Celery (sequential): 5.012699842453003 seconds.\n",
      "Result: None\n",
      "Result: None\n",
      "Result: None\n",
      "Result: None\n",
      "Result: None\n",
      "Time taken with Celery (queue): 0.11936664581298828 seconds.\n"
     ]
    }
   ],
   "execution_count": 5
  },
  {
   "metadata": {
    "ExecuteTime": {
     "end_time": "2024-12-26T15:58:05.587397Z",
     "start_time": "2024-12-26T15:57:44.628378Z"
    }
   },
   "cell_type": "code",
   "source": "!pip install matplotlib",
   "id": "28a886672ab08849",
   "outputs": [
    {
     "name": "stdout",
     "output_type": "stream",
     "text": [
      "Collecting matplotlib\n",
      "  Obtaining dependency information for matplotlib from https://files.pythonhosted.org/packages/9f/6e/264673e64001b99d747aff5a288eca82826c024437a3694e19aed1decf46/matplotlib-3.10.0-cp312-cp312-win_amd64.whl.metadata\n",
      "  Downloading matplotlib-3.10.0-cp312-cp312-win_amd64.whl.metadata (11 kB)\n",
      "Collecting contourpy>=1.0.1 (from matplotlib)\n",
      "  Obtaining dependency information for contourpy>=1.0.1 from https://files.pythonhosted.org/packages/a1/35/c2de8823211d07e8a79ab018ef03960716c5dff6f4d5bff5af87fd682992/contourpy-1.3.1-cp312-cp312-win_amd64.whl.metadata\n",
      "  Downloading contourpy-1.3.1-cp312-cp312-win_amd64.whl.metadata (5.4 kB)\n",
      "Collecting cycler>=0.10 (from matplotlib)\n",
      "  Obtaining dependency information for cycler>=0.10 from https://files.pythonhosted.org/packages/e7/05/c19819d5e3d95294a6f5947fb9b9629efb316b96de511b418c53d245aae6/cycler-0.12.1-py3-none-any.whl.metadata\n",
      "  Downloading cycler-0.12.1-py3-none-any.whl.metadata (3.8 kB)\n",
      "Collecting fonttools>=4.22.0 (from matplotlib)\n",
      "  Obtaining dependency information for fonttools>=4.22.0 from https://files.pythonhosted.org/packages/46/45/a498b5291f6c0d91b2394b1ed7447442a57d1c9b9cf8f439aee3c316a56e/fonttools-4.55.3-cp312-cp312-win_amd64.whl.metadata\n",
      "  Downloading fonttools-4.55.3-cp312-cp312-win_amd64.whl.metadata (168 kB)\n",
      "     ---------------------------------------- 0.0/168.5 kB ? eta -:--:--\n",
      "     ---------------------------------------- 0.0/168.5 kB ? eta -:--:--\n",
      "     ---------------------------------------- 0.0/168.5 kB ? eta -:--:--\n",
      "     --------- ------------------------------ 41.0/168.5 kB ? eta -:--:--\n",
      "     --------------- --------------------- 71.7/168.5 kB 991.0 kB/s eta 0:00:01\n",
      "     -------------------------------- ----- 143.4/168.5 kB 1.2 MB/s eta 0:00:01\n",
      "     ---------------------------------- --- 153.6/168.5 kB 1.1 MB/s eta 0:00:01\n",
      "     ------------------------------------ 168.5/168.5 kB 846.3 kB/s eta 0:00:00\n",
      "Collecting kiwisolver>=1.3.1 (from matplotlib)\n",
      "  Obtaining dependency information for kiwisolver>=1.3.1 from https://files.pythonhosted.org/packages/bd/72/dfff0cc97f2a0776e1c9eb5bef1ddfd45f46246c6533b0191887a427bca5/kiwisolver-1.4.8-cp312-cp312-win_amd64.whl.metadata\n",
      "  Downloading kiwisolver-1.4.8-cp312-cp312-win_amd64.whl.metadata (6.3 kB)\n",
      "Collecting numpy>=1.23 (from matplotlib)\n",
      "  Obtaining dependency information for numpy>=1.23 from https://files.pythonhosted.org/packages/17/c1/c31d3637f2641e25c7a19adf2ae822fdaf4ddd198b05d79a92a9ce7cb63e/numpy-2.2.1-cp312-cp312-win_amd64.whl.metadata\n",
      "  Using cached numpy-2.2.1-cp312-cp312-win_amd64.whl.metadata (60 kB)\n",
      "Requirement already satisfied: packaging>=20.0 in c:\\users\\nataliia\\desktop\\bitrixwork\\voicetotext\\.venv\\lib\\site-packages (from matplotlib) (24.2)\n",
      "Collecting pillow>=8 (from matplotlib)\n",
      "  Obtaining dependency information for pillow>=8 from https://files.pythonhosted.org/packages/57/97/73f756c338c1d86bb802ee88c3cab015ad7ce4b838f8a24f16b676b1ac7c/pillow-11.0.0-cp312-cp312-win_amd64.whl.metadata\n",
      "  Using cached pillow-11.0.0-cp312-cp312-win_amd64.whl.metadata (9.3 kB)\n",
      "Collecting pyparsing>=2.3.1 (from matplotlib)\n",
      "  Obtaining dependency information for pyparsing>=2.3.1 from https://files.pythonhosted.org/packages/be/ec/2eb3cd785efd67806c46c13a17339708ddc346cbb684eade7a6e6f79536a/pyparsing-3.2.0-py3-none-any.whl.metadata\n",
      "  Downloading pyparsing-3.2.0-py3-none-any.whl.metadata (5.0 kB)\n",
      "Requirement already satisfied: python-dateutil>=2.7 in c:\\users\\nataliia\\desktop\\bitrixwork\\voicetotext\\.venv\\lib\\site-packages (from matplotlib) (2.9.0.post0)\n",
      "Requirement already satisfied: six>=1.5 in c:\\users\\nataliia\\desktop\\bitrixwork\\voicetotext\\.venv\\lib\\site-packages (from python-dateutil>=2.7->matplotlib) (1.17.0)\n",
      "Downloading matplotlib-3.10.0-cp312-cp312-win_amd64.whl (8.0 MB)\n",
      "   ---------------------------------------- 0.0/8.0 MB ? eta -:--:--\n",
      "    --------------------------------------- 0.1/8.0 MB 4.3 MB/s eta 0:00:02\n",
      "   - -------------------------------------- 0.3/8.0 MB 3.7 MB/s eta 0:00:03\n",
      "   -- ------------------------------------- 0.6/8.0 MB 4.5 MB/s eta 0:00:02\n",
      "   ---- ----------------------------------- 0.9/8.0 MB 5.8 MB/s eta 0:00:02\n",
      "   ---- ----------------------------------- 1.0/8.0 MB 4.8 MB/s eta 0:00:02\n",
      "   ---- ----------------------------------- 1.0/8.0 MB 4.8 MB/s eta 0:00:02\n",
      "   ----- ---------------------------------- 1.1/8.0 MB 3.6 MB/s eta 0:00:02\n",
      "   ----- ---------------------------------- 1.1/8.0 MB 3.6 MB/s eta 0:00:02\n",
      "   ------ --------------------------------- 1.2/8.0 MB 3.0 MB/s eta 0:00:03\n",
      "   --------- ------------------------------ 1.9/8.0 MB 4.2 MB/s eta 0:00:02\n",
      "   ------------ --------------------------- 2.6/8.0 MB 5.2 MB/s eta 0:00:02\n",
      "   --------------- ------------------------ 3.1/8.0 MB 5.7 MB/s eta 0:00:01\n",
      "   ------------------ --------------------- 3.7/8.0 MB 6.2 MB/s eta 0:00:01\n",
      "   -------------------- ------------------- 4.2/8.0 MB 6.5 MB/s eta 0:00:01\n",
      "   ----------------------- ---------------- 4.6/8.0 MB 6.9 MB/s eta 0:00:01\n",
      "   ----------------------- ---------------- 4.7/8.0 MB 6.4 MB/s eta 0:00:01\n",
      "   ----------------------- ---------------- 4.7/8.0 MB 6.4 MB/s eta 0:00:01\n",
      "   ----------------------- ---------------- 4.8/8.0 MB 6.0 MB/s eta 0:00:01\n",
      "   --------------------------- ------------ 5.5/8.0 MB 6.4 MB/s eta 0:00:01\n",
      "   --------------------------- ------------ 5.5/8.0 MB 6.4 MB/s eta 0:00:01\n",
      "   --------------------------- ------------ 5.5/8.0 MB 6.4 MB/s eta 0:00:01\n",
      "   --------------------------- ------------ 5.5/8.0 MB 6.4 MB/s eta 0:00:01\n",
      "   --------------------------- ------------ 5.5/8.0 MB 6.4 MB/s eta 0:00:01\n",
      "   --------------------------- ------------ 5.5/8.0 MB 6.4 MB/s eta 0:00:01\n",
      "   --------------------------- ------------ 5.5/8.0 MB 6.4 MB/s eta 0:00:01\n",
      "   ------------------------------------ --- 7.4/8.0 MB 6.2 MB/s eta 0:00:01\n",
      "   ---------------------------------------  8.0/8.0 MB 6.5 MB/s eta 0:00:01\n",
      "   ---------------------------------------  8.0/8.0 MB 6.3 MB/s eta 0:00:01\n",
      "   ---------------------------------------- 8.0/8.0 MB 6.2 MB/s eta 0:00:00\n",
      "Downloading contourpy-1.3.1-cp312-cp312-win_amd64.whl (220 kB)\n",
      "   ---------------------------------------- 0.0/221.0 kB ? eta -:--:--\n",
      "   ---------------------- ----------------- 122.9/221.0 kB 7.0 MB/s eta 0:00:01\n",
      "   ---------------------- ----------------- 122.9/221.0 kB 7.0 MB/s eta 0:00:01\n",
      "   ---------------------------------------- 221.0/221.0 kB 1.9 MB/s eta 0:00:00\n",
      "Downloading cycler-0.12.1-py3-none-any.whl (8.3 kB)\n",
      "Downloading fonttools-4.55.3-cp312-cp312-win_amd64.whl (2.2 MB)\n",
      "   ---------------------------------------- 0.0/2.2 MB ? eta -:--:--\n",
      "   -------- ------------------------------- 0.5/2.2 MB 14.7 MB/s eta 0:00:01\n",
      "   ------------------- -------------------- 1.1/2.2 MB 13.7 MB/s eta 0:00:01\n",
      "   ---------------------------- ----------- 1.6/2.2 MB 12.5 MB/s eta 0:00:01\n",
      "   ------------------------------------ --- 2.0/2.2 MB 11.5 MB/s eta 0:00:01\n",
      "   -------------------------------------- - 2.1/2.2 MB 9.6 MB/s eta 0:00:01\n",
      "   ---------------------------------------  2.2/2.2 MB 9.3 MB/s eta 0:00:01\n",
      "   ---------------------------------------- 2.2/2.2 MB 7.4 MB/s eta 0:00:00\n",
      "Downloading kiwisolver-1.4.8-cp312-cp312-win_amd64.whl (71 kB)\n",
      "   ---------------------------------------- 0.0/71.9 kB ? eta -:--:--\n",
      "   ---------------------------------------- 71.9/71.9 kB ? eta 0:00:00\n",
      "Using cached numpy-2.2.1-cp312-cp312-win_amd64.whl (12.6 MB)\n",
      "Using cached pillow-11.0.0-cp312-cp312-win_amd64.whl (2.6 MB)\n",
      "Downloading pyparsing-3.2.0-py3-none-any.whl (106 kB)\n",
      "   ---------------------------------------- 0.0/106.9 kB ? eta -:--:--\n",
      "   ---------------------------------------- 106.9/106.9 kB ? eta 0:00:00\n",
      "Installing collected packages: pyparsing, pillow, numpy, kiwisolver, fonttools, cycler, contourpy, matplotlib\n",
      "Successfully installed contourpy-1.3.1 cycler-0.12.1 fonttools-4.55.3 kiwisolver-1.4.8 matplotlib-3.10.0 numpy-2.2.1 pillow-11.0.0 pyparsing-3.2.0\n"
     ]
    },
    {
     "name": "stderr",
     "output_type": "stream",
     "text": [
      "\n",
      "[notice] A new release of pip is available: 23.2.1 -> 24.3.1\n",
      "[notice] To update, run: python.exe -m pip install --upgrade pip\n"
     ]
    }
   ],
   "execution_count": 8
  },
  {
   "metadata": {
    "ExecuteTime": {
     "end_time": "2024-12-26T16:26:22.526203Z",
     "start_time": "2024-12-26T16:24:38.672689Z"
    }
   },
   "cell_type": "code",
   "source": [
    "import time\n",
    "from celery import Celery\n",
    "import matplotlib.pyplot as plt\n",
    "\n",
    "# Создаем приложение Celery с настройками для Redis\n",
    "app = Celery('tasks', broker='redis://localhost:6379/0', backend='redis://localhost:6379/0')\n",
    "\n",
    "# Функция, которую будем использовать как задачу\n",
    "@app.task\n",
    "def process_task(task_id):\n",
    "    time.sleep(0.1)  # Уменьшаем задержку для ускорения эксперимента\n",
    "    return f\"Task {task_id} completed.\"\n",
    "\n",
    "def run_experiment(data_sizes):\n",
    "    results = {\"sequential\": [], \"celery\": []}\n",
    "\n",
    "    for size in data_sizes:\n",
    "        # Эксперимент без Celery (последовательно)\n",
    "        start_time = time.time()\n",
    "        results_seq = [process_task(i) for i in range(size)]\n",
    "        end_time = time.time()\n",
    "        elapsed_time_seq = end_time - start_time\n",
    "        results[\"sequential\"].append(elapsed_time_seq)\n",
    "\n",
    "        # Эксперимент с Celery (асинхронно)\n",
    "        start_time = time.time()\n",
    "        results_celery = []\n",
    "        for i in range(size):\n",
    "            result = process_task.apply_async(args=[i])\n",
    "            results_celery.append(result)\n",
    "\n",
    "        # Получаем результаты выполнения задач\n",
    "        for result in results_celery:\n",
    "            result.get()  # Получаем результат, что тоже замедляет эксперимент\n",
    "\n",
    "        end_time = time.time()\n",
    "        elapsed_time_celery = end_time - start_time\n",
    "        results[\"celery\"].append(elapsed_time_celery)\n",
    "\n",
    "    return results\n",
    "\n",
    "# Задаем различные размеры данных для эксперимента\n",
    "data_sizes = [5, 10, 20, 50, 100]\n",
    "\n",
    "# Запуск эксперимента\n",
    "experiment_results = run_experiment(data_sizes)\n",
    "\n",
    "# Построение графика\n",
    "plt.figure(figsize=(10, 6))\n",
    "plt.plot(data_sizes, experiment_results[\"sequential\"], label='Sequential (No Celery)', marker='o')\n",
    "plt.plot(data_sizes, experiment_results[\"celery\"], label='Celery (Async)', marker='o')\n",
    "plt.xlabel('Number of Tasks')\n",
    "plt.ylabel('Execution Time (seconds)')\n",
    "plt.title('Execution Time Comparison: Sequential vs Celery')\n",
    "plt.legend()\n",
    "plt.grid(True)\n",
    "plt.show()\n"
   ],
   "id": "662b3feb18226032",
   "outputs": [
    {
     "ename": "KeyboardInterrupt",
     "evalue": "",
     "output_type": "error",
     "traceback": [
      "\u001B[1;31m---------------------------------------------------------------------------\u001B[0m",
      "\u001B[1;31mKeyboardInterrupt\u001B[0m                         Traceback (most recent call last)",
      "Cell \u001B[1;32mIn[6], line 46\u001B[0m\n\u001B[0;32m     43\u001B[0m data_sizes \u001B[38;5;241m=\u001B[39m [\u001B[38;5;241m5\u001B[39m, \u001B[38;5;241m10\u001B[39m, \u001B[38;5;241m20\u001B[39m, \u001B[38;5;241m50\u001B[39m, \u001B[38;5;241m100\u001B[39m]\n\u001B[0;32m     45\u001B[0m \u001B[38;5;66;03m# Запуск эксперимента\u001B[39;00m\n\u001B[1;32m---> 46\u001B[0m experiment_results \u001B[38;5;241m=\u001B[39m \u001B[43mrun_experiment\u001B[49m\u001B[43m(\u001B[49m\u001B[43mdata_sizes\u001B[49m\u001B[43m)\u001B[49m\n\u001B[0;32m     48\u001B[0m \u001B[38;5;66;03m# Построение графика\u001B[39;00m\n\u001B[0;32m     49\u001B[0m plt\u001B[38;5;241m.\u001B[39mfigure(figsize\u001B[38;5;241m=\u001B[39m(\u001B[38;5;241m10\u001B[39m, \u001B[38;5;241m6\u001B[39m))\n",
      "Cell \u001B[1;32mIn[6], line 34\u001B[0m, in \u001B[0;36mrun_experiment\u001B[1;34m(data_sizes)\u001B[0m\n\u001B[0;32m     32\u001B[0m \u001B[38;5;66;03m# Получаем результаты выполнения задач\u001B[39;00m\n\u001B[0;32m     33\u001B[0m \u001B[38;5;28;01mfor\u001B[39;00m result \u001B[38;5;129;01min\u001B[39;00m results_celery:\n\u001B[1;32m---> 34\u001B[0m     \u001B[43mresult\u001B[49m\u001B[38;5;241;43m.\u001B[39;49m\u001B[43mget\u001B[49m\u001B[43m(\u001B[49m\u001B[43m)\u001B[49m  \u001B[38;5;66;03m# Получаем результат, что тоже замедляет эксперимент\u001B[39;00m\n\u001B[0;32m     36\u001B[0m end_time \u001B[38;5;241m=\u001B[39m time\u001B[38;5;241m.\u001B[39mtime()\n\u001B[0;32m     37\u001B[0m elapsed_time_celery \u001B[38;5;241m=\u001B[39m end_time \u001B[38;5;241m-\u001B[39m start_time\n",
      "File \u001B[1;32m~\\Desktop\\BitrixWork\\VoiceToText\\.venv\\Lib\\site-packages\\celery\\result.py:251\u001B[0m, in \u001B[0;36mAsyncResult.get\u001B[1;34m(self, timeout, propagate, interval, no_ack, follow_parents, callback, on_message, on_interval, disable_sync_subtasks, EXCEPTION_STATES, PROPAGATE_STATES)\u001B[0m\n\u001B[0;32m    248\u001B[0m     \u001B[38;5;28;01mreturn\u001B[39;00m \u001B[38;5;28mself\u001B[39m\u001B[38;5;241m.\u001B[39mresult\n\u001B[0;32m    250\u001B[0m \u001B[38;5;28mself\u001B[39m\u001B[38;5;241m.\u001B[39mbackend\u001B[38;5;241m.\u001B[39madd_pending_result(\u001B[38;5;28mself\u001B[39m)\n\u001B[1;32m--> 251\u001B[0m \u001B[38;5;28;01mreturn\u001B[39;00m \u001B[38;5;28;43mself\u001B[39;49m\u001B[38;5;241;43m.\u001B[39;49m\u001B[43mbackend\u001B[49m\u001B[38;5;241;43m.\u001B[39;49m\u001B[43mwait_for_pending\u001B[49m\u001B[43m(\u001B[49m\n\u001B[0;32m    252\u001B[0m \u001B[43m    \u001B[49m\u001B[38;5;28;43mself\u001B[39;49m\u001B[43m,\u001B[49m\u001B[43m \u001B[49m\u001B[43mtimeout\u001B[49m\u001B[38;5;241;43m=\u001B[39;49m\u001B[43mtimeout\u001B[49m\u001B[43m,\u001B[49m\n\u001B[0;32m    253\u001B[0m \u001B[43m    \u001B[49m\u001B[43minterval\u001B[49m\u001B[38;5;241;43m=\u001B[39;49m\u001B[43minterval\u001B[49m\u001B[43m,\u001B[49m\n\u001B[0;32m    254\u001B[0m \u001B[43m    \u001B[49m\u001B[43mon_interval\u001B[49m\u001B[38;5;241;43m=\u001B[39;49m\u001B[43m_on_interval\u001B[49m\u001B[43m,\u001B[49m\n\u001B[0;32m    255\u001B[0m \u001B[43m    \u001B[49m\u001B[43mno_ack\u001B[49m\u001B[38;5;241;43m=\u001B[39;49m\u001B[43mno_ack\u001B[49m\u001B[43m,\u001B[49m\n\u001B[0;32m    256\u001B[0m \u001B[43m    \u001B[49m\u001B[43mpropagate\u001B[49m\u001B[38;5;241;43m=\u001B[39;49m\u001B[43mpropagate\u001B[49m\u001B[43m,\u001B[49m\n\u001B[0;32m    257\u001B[0m \u001B[43m    \u001B[49m\u001B[43mcallback\u001B[49m\u001B[38;5;241;43m=\u001B[39;49m\u001B[43mcallback\u001B[49m\u001B[43m,\u001B[49m\n\u001B[0;32m    258\u001B[0m \u001B[43m    \u001B[49m\u001B[43mon_message\u001B[49m\u001B[38;5;241;43m=\u001B[39;49m\u001B[43mon_message\u001B[49m\u001B[43m,\u001B[49m\n\u001B[0;32m    259\u001B[0m \u001B[43m\u001B[49m\u001B[43m)\u001B[49m\n",
      "File \u001B[1;32m~\\Desktop\\BitrixWork\\VoiceToText\\.venv\\Lib\\site-packages\\celery\\backends\\asynchronous.py:221\u001B[0m, in \u001B[0;36mAsyncBackendMixin.wait_for_pending\u001B[1;34m(self, result, callback, propagate, **kwargs)\u001B[0m\n\u001B[0;32m    218\u001B[0m \u001B[38;5;28;01mdef\u001B[39;00m \u001B[38;5;21mwait_for_pending\u001B[39m(\u001B[38;5;28mself\u001B[39m, result,\n\u001B[0;32m    219\u001B[0m                      callback\u001B[38;5;241m=\u001B[39m\u001B[38;5;28;01mNone\u001B[39;00m, propagate\u001B[38;5;241m=\u001B[39m\u001B[38;5;28;01mTrue\u001B[39;00m, \u001B[38;5;241m*\u001B[39m\u001B[38;5;241m*\u001B[39mkwargs):\n\u001B[0;32m    220\u001B[0m     \u001B[38;5;28mself\u001B[39m\u001B[38;5;241m.\u001B[39m_ensure_not_eager()\n\u001B[1;32m--> 221\u001B[0m \u001B[43m    \u001B[49m\u001B[38;5;28;43;01mfor\u001B[39;49;00m\u001B[43m \u001B[49m\u001B[43m_\u001B[49m\u001B[43m \u001B[49m\u001B[38;5;129;43;01min\u001B[39;49;00m\u001B[43m \u001B[49m\u001B[38;5;28;43mself\u001B[39;49m\u001B[38;5;241;43m.\u001B[39;49m\u001B[43m_wait_for_pending\u001B[49m\u001B[43m(\u001B[49m\u001B[43mresult\u001B[49m\u001B[43m,\u001B[49m\u001B[43m \u001B[49m\u001B[38;5;241;43m*\u001B[39;49m\u001B[38;5;241;43m*\u001B[39;49m\u001B[43mkwargs\u001B[49m\u001B[43m)\u001B[49m\u001B[43m:\u001B[49m\n\u001B[0;32m    222\u001B[0m \u001B[43m        \u001B[49m\u001B[38;5;28;43;01mpass\u001B[39;49;00m\n\u001B[0;32m    223\u001B[0m     \u001B[38;5;28;01mreturn\u001B[39;00m result\u001B[38;5;241m.\u001B[39mmaybe_throw(callback\u001B[38;5;241m=\u001B[39mcallback, propagate\u001B[38;5;241m=\u001B[39mpropagate)\n",
      "File \u001B[1;32m~\\Desktop\\BitrixWork\\VoiceToText\\.venv\\Lib\\site-packages\\celery\\backends\\asynchronous.py:287\u001B[0m, in \u001B[0;36mBaseResultConsumer._wait_for_pending\u001B[1;34m(self, result, timeout, on_interval, on_message, **kwargs)\u001B[0m\n\u001B[0;32m    285\u001B[0m prev_on_m, \u001B[38;5;28mself\u001B[39m\u001B[38;5;241m.\u001B[39mon_message \u001B[38;5;241m=\u001B[39m \u001B[38;5;28mself\u001B[39m\u001B[38;5;241m.\u001B[39mon_message, on_message\n\u001B[0;32m    286\u001B[0m \u001B[38;5;28;01mtry\u001B[39;00m:\n\u001B[1;32m--> 287\u001B[0m \u001B[43m    \u001B[49m\u001B[38;5;28;43;01mfor\u001B[39;49;00m\u001B[43m \u001B[49m\u001B[43m_\u001B[49m\u001B[43m \u001B[49m\u001B[38;5;129;43;01min\u001B[39;49;00m\u001B[43m \u001B[49m\u001B[38;5;28;43mself\u001B[39;49m\u001B[38;5;241;43m.\u001B[39;49m\u001B[43mdrain_events_until\u001B[49m\u001B[43m(\u001B[49m\n\u001B[0;32m    288\u001B[0m \u001B[43m            \u001B[49m\u001B[43mresult\u001B[49m\u001B[38;5;241;43m.\u001B[39;49m\u001B[43mon_ready\u001B[49m\u001B[43m,\u001B[49m\u001B[43m \u001B[49m\u001B[43mtimeout\u001B[49m\u001B[38;5;241;43m=\u001B[39;49m\u001B[43mtimeout\u001B[49m\u001B[43m,\u001B[49m\n\u001B[0;32m    289\u001B[0m \u001B[43m            \u001B[49m\u001B[43mon_interval\u001B[49m\u001B[38;5;241;43m=\u001B[39;49m\u001B[43mon_interval\u001B[49m\u001B[43m)\u001B[49m\u001B[43m:\u001B[49m\n\u001B[0;32m    290\u001B[0m \u001B[43m        \u001B[49m\u001B[38;5;28;43;01myield\u001B[39;49;00m\n\u001B[0;32m    291\u001B[0m \u001B[43m        \u001B[49m\u001B[43msleep\u001B[49m\u001B[43m(\u001B[49m\u001B[38;5;241;43m0\u001B[39;49m\u001B[43m)\u001B[49m\n",
      "File \u001B[1;32m~\\Desktop\\BitrixWork\\VoiceToText\\.venv\\Lib\\site-packages\\celery\\backends\\asynchronous.py:54\u001B[0m, in \u001B[0;36mDrainer.drain_events_until\u001B[1;34m(self, p, timeout, interval, on_interval, wait)\u001B[0m\n\u001B[0;32m     52\u001B[0m     \u001B[38;5;28;01mraise\u001B[39;00m socket\u001B[38;5;241m.\u001B[39mtimeout()\n\u001B[0;32m     53\u001B[0m \u001B[38;5;28;01mtry\u001B[39;00m:\n\u001B[1;32m---> 54\u001B[0m     \u001B[38;5;28;01myield\u001B[39;00m \u001B[38;5;28;43mself\u001B[39;49m\u001B[38;5;241;43m.\u001B[39;49m\u001B[43mwait_for\u001B[49m\u001B[43m(\u001B[49m\u001B[43mp\u001B[49m\u001B[43m,\u001B[49m\u001B[43m \u001B[49m\u001B[43mwait\u001B[49m\u001B[43m,\u001B[49m\u001B[43m \u001B[49m\u001B[43mtimeout\u001B[49m\u001B[38;5;241;43m=\u001B[39;49m\u001B[43minterval\u001B[49m\u001B[43m)\u001B[49m\n\u001B[0;32m     55\u001B[0m \u001B[38;5;28;01mexcept\u001B[39;00m socket\u001B[38;5;241m.\u001B[39mtimeout:\n\u001B[0;32m     56\u001B[0m     \u001B[38;5;28;01mpass\u001B[39;00m\n",
      "File \u001B[1;32m~\\Desktop\\BitrixWork\\VoiceToText\\.venv\\Lib\\site-packages\\celery\\backends\\asynchronous.py:63\u001B[0m, in \u001B[0;36mDrainer.wait_for\u001B[1;34m(self, p, wait, timeout)\u001B[0m\n\u001B[0;32m     62\u001B[0m \u001B[38;5;28;01mdef\u001B[39;00m \u001B[38;5;21mwait_for\u001B[39m(\u001B[38;5;28mself\u001B[39m, p, wait, timeout\u001B[38;5;241m=\u001B[39m\u001B[38;5;28;01mNone\u001B[39;00m):\n\u001B[1;32m---> 63\u001B[0m     \u001B[43mwait\u001B[49m\u001B[43m(\u001B[49m\u001B[43mtimeout\u001B[49m\u001B[38;5;241;43m=\u001B[39;49m\u001B[43mtimeout\u001B[49m\u001B[43m)\u001B[49m\n",
      "File \u001B[1;32m~\\Desktop\\BitrixWork\\VoiceToText\\.venv\\Lib\\site-packages\\celery\\backends\\redis.py:161\u001B[0m, in \u001B[0;36mResultConsumer.drain_events\u001B[1;34m(self, timeout)\u001B[0m\n\u001B[0;32m    159\u001B[0m \u001B[38;5;28;01mif\u001B[39;00m \u001B[38;5;28mself\u001B[39m\u001B[38;5;241m.\u001B[39m_pubsub:\n\u001B[0;32m    160\u001B[0m     \u001B[38;5;28;01mwith\u001B[39;00m \u001B[38;5;28mself\u001B[39m\u001B[38;5;241m.\u001B[39mreconnect_on_error():\n\u001B[1;32m--> 161\u001B[0m         message \u001B[38;5;241m=\u001B[39m \u001B[38;5;28;43mself\u001B[39;49m\u001B[38;5;241;43m.\u001B[39;49m\u001B[43m_pubsub\u001B[49m\u001B[38;5;241;43m.\u001B[39;49m\u001B[43mget_message\u001B[49m\u001B[43m(\u001B[49m\u001B[43mtimeout\u001B[49m\u001B[38;5;241;43m=\u001B[39;49m\u001B[43mtimeout\u001B[49m\u001B[43m)\u001B[49m\n\u001B[0;32m    162\u001B[0m         \u001B[38;5;28;01mif\u001B[39;00m message \u001B[38;5;129;01mand\u001B[39;00m message[\u001B[38;5;124m'\u001B[39m\u001B[38;5;124mtype\u001B[39m\u001B[38;5;124m'\u001B[39m] \u001B[38;5;241m==\u001B[39m \u001B[38;5;124m'\u001B[39m\u001B[38;5;124mmessage\u001B[39m\u001B[38;5;124m'\u001B[39m:\n\u001B[0;32m    163\u001B[0m             \u001B[38;5;28mself\u001B[39m\u001B[38;5;241m.\u001B[39mon_state_change(\u001B[38;5;28mself\u001B[39m\u001B[38;5;241m.\u001B[39m_decode_result(message[\u001B[38;5;124m'\u001B[39m\u001B[38;5;124mdata\u001B[39m\u001B[38;5;124m'\u001B[39m]), message)\n",
      "File \u001B[1;32m~\\Desktop\\BitrixWork\\VoiceToText\\.venv\\Lib\\site-packages\\redis\\client.py:1054\u001B[0m, in \u001B[0;36mPubSub.get_message\u001B[1;34m(self, ignore_subscribe_messages, timeout)\u001B[0m\n\u001B[0;32m   1049\u001B[0m     \u001B[38;5;28;01melse\u001B[39;00m:\n\u001B[0;32m   1050\u001B[0m         \u001B[38;5;66;03m# The connection isn't subscribed to any channels or patterns,\u001B[39;00m\n\u001B[0;32m   1051\u001B[0m         \u001B[38;5;66;03m# so no messages are available\u001B[39;00m\n\u001B[0;32m   1052\u001B[0m         \u001B[38;5;28;01mreturn\u001B[39;00m \u001B[38;5;28;01mNone\u001B[39;00m\n\u001B[1;32m-> 1054\u001B[0m response \u001B[38;5;241m=\u001B[39m \u001B[38;5;28;43mself\u001B[39;49m\u001B[38;5;241;43m.\u001B[39;49m\u001B[43mparse_response\u001B[49m\u001B[43m(\u001B[49m\u001B[43mblock\u001B[49m\u001B[38;5;241;43m=\u001B[39;49m\u001B[43m(\u001B[49m\u001B[43mtimeout\u001B[49m\u001B[43m \u001B[49m\u001B[38;5;129;43;01mis\u001B[39;49;00m\u001B[43m \u001B[49m\u001B[38;5;28;43;01mNone\u001B[39;49;00m\u001B[43m)\u001B[49m\u001B[43m,\u001B[49m\u001B[43m \u001B[49m\u001B[43mtimeout\u001B[49m\u001B[38;5;241;43m=\u001B[39;49m\u001B[43mtimeout\u001B[49m\u001B[43m)\u001B[49m\n\u001B[0;32m   1055\u001B[0m \u001B[38;5;28;01mif\u001B[39;00m response:\n\u001B[0;32m   1056\u001B[0m     \u001B[38;5;28;01mreturn\u001B[39;00m \u001B[38;5;28mself\u001B[39m\u001B[38;5;241m.\u001B[39mhandle_message(response, ignore_subscribe_messages)\n",
      "File \u001B[1;32m~\\Desktop\\BitrixWork\\VoiceToText\\.venv\\Lib\\site-packages\\redis\\client.py:865\u001B[0m, in \u001B[0;36mPubSub.parse_response\u001B[1;34m(self, block, timeout)\u001B[0m\n\u001B[0;32m    862\u001B[0m         conn\u001B[38;5;241m.\u001B[39mconnect()\n\u001B[0;32m    863\u001B[0m     \u001B[38;5;28;01mreturn\u001B[39;00m conn\u001B[38;5;241m.\u001B[39mread_response(disconnect_on_error\u001B[38;5;241m=\u001B[39m\u001B[38;5;28;01mFalse\u001B[39;00m, push_request\u001B[38;5;241m=\u001B[39m\u001B[38;5;28;01mTrue\u001B[39;00m)\n\u001B[1;32m--> 865\u001B[0m response \u001B[38;5;241m=\u001B[39m \u001B[38;5;28;43mself\u001B[39;49m\u001B[38;5;241;43m.\u001B[39;49m\u001B[43m_execute\u001B[49m\u001B[43m(\u001B[49m\u001B[43mconn\u001B[49m\u001B[43m,\u001B[49m\u001B[43m \u001B[49m\u001B[43mtry_read\u001B[49m\u001B[43m)\u001B[49m\n\u001B[0;32m    867\u001B[0m \u001B[38;5;28;01mif\u001B[39;00m \u001B[38;5;28mself\u001B[39m\u001B[38;5;241m.\u001B[39mis_health_check_response(response):\n\u001B[0;32m    868\u001B[0m     \u001B[38;5;66;03m# ignore the health check message as user might not expect it\u001B[39;00m\n\u001B[0;32m    869\u001B[0m     \u001B[38;5;28mself\u001B[39m\u001B[38;5;241m.\u001B[39mhealth_check_response_counter \u001B[38;5;241m-\u001B[39m\u001B[38;5;241m=\u001B[39m \u001B[38;5;241m1\u001B[39m\n",
      "File \u001B[1;32m~\\Desktop\\BitrixWork\\VoiceToText\\.venv\\Lib\\site-packages\\redis\\client.py:841\u001B[0m, in \u001B[0;36mPubSub._execute\u001B[1;34m(self, conn, command, *args, **kwargs)\u001B[0m\n\u001B[0;32m    833\u001B[0m \u001B[38;5;28;01mdef\u001B[39;00m \u001B[38;5;21m_execute\u001B[39m(\u001B[38;5;28mself\u001B[39m, conn, command, \u001B[38;5;241m*\u001B[39margs, \u001B[38;5;241m*\u001B[39m\u001B[38;5;241m*\u001B[39mkwargs):\n\u001B[0;32m    834\u001B[0m \u001B[38;5;250m    \u001B[39m\u001B[38;5;124;03m\"\"\"\u001B[39;00m\n\u001B[0;32m    835\u001B[0m \u001B[38;5;124;03m    Connect manually upon disconnection. If the Redis server is down,\u001B[39;00m\n\u001B[0;32m    836\u001B[0m \u001B[38;5;124;03m    this will fail and raise a ConnectionError as desired.\u001B[39;00m\n\u001B[1;32m   (...)\u001B[0m\n\u001B[0;32m    839\u001B[0m \u001B[38;5;124;03m    patterns we were previously listening to\u001B[39;00m\n\u001B[0;32m    840\u001B[0m \u001B[38;5;124;03m    \"\"\"\u001B[39;00m\n\u001B[1;32m--> 841\u001B[0m     \u001B[38;5;28;01mreturn\u001B[39;00m \u001B[43mconn\u001B[49m\u001B[38;5;241;43m.\u001B[39;49m\u001B[43mretry\u001B[49m\u001B[38;5;241;43m.\u001B[39;49m\u001B[43mcall_with_retry\u001B[49m\u001B[43m(\u001B[49m\n\u001B[0;32m    842\u001B[0m \u001B[43m        \u001B[49m\u001B[38;5;28;43;01mlambda\u001B[39;49;00m\u001B[43m:\u001B[49m\u001B[43m \u001B[49m\u001B[43mcommand\u001B[49m\u001B[43m(\u001B[49m\u001B[38;5;241;43m*\u001B[39;49m\u001B[43margs\u001B[49m\u001B[43m,\u001B[49m\u001B[43m \u001B[49m\u001B[38;5;241;43m*\u001B[39;49m\u001B[38;5;241;43m*\u001B[39;49m\u001B[43mkwargs\u001B[49m\u001B[43m)\u001B[49m\u001B[43m,\u001B[49m\n\u001B[0;32m    843\u001B[0m \u001B[43m        \u001B[49m\u001B[38;5;28;43;01mlambda\u001B[39;49;00m\u001B[43m \u001B[49m\u001B[43merror\u001B[49m\u001B[43m:\u001B[49m\u001B[43m \u001B[49m\u001B[38;5;28;43mself\u001B[39;49m\u001B[38;5;241;43m.\u001B[39;49m\u001B[43m_disconnect_raise_connect\u001B[49m\u001B[43m(\u001B[49m\u001B[43mconn\u001B[49m\u001B[43m,\u001B[49m\u001B[43m \u001B[49m\u001B[43merror\u001B[49m\u001B[43m)\u001B[49m\u001B[43m,\u001B[49m\n\u001B[0;32m    844\u001B[0m \u001B[43m    \u001B[49m\u001B[43m)\u001B[49m\n",
      "File \u001B[1;32m~\\Desktop\\BitrixWork\\VoiceToText\\.venv\\Lib\\site-packages\\redis\\retry.py:62\u001B[0m, in \u001B[0;36mRetry.call_with_retry\u001B[1;34m(self, do, fail)\u001B[0m\n\u001B[0;32m     60\u001B[0m \u001B[38;5;28;01mwhile\u001B[39;00m \u001B[38;5;28;01mTrue\u001B[39;00m:\n\u001B[0;32m     61\u001B[0m     \u001B[38;5;28;01mtry\u001B[39;00m:\n\u001B[1;32m---> 62\u001B[0m         \u001B[38;5;28;01mreturn\u001B[39;00m \u001B[43mdo\u001B[49m\u001B[43m(\u001B[49m\u001B[43m)\u001B[49m\n\u001B[0;32m     63\u001B[0m     \u001B[38;5;28;01mexcept\u001B[39;00m \u001B[38;5;28mself\u001B[39m\u001B[38;5;241m.\u001B[39m_supported_errors \u001B[38;5;28;01mas\u001B[39;00m error:\n\u001B[0;32m     64\u001B[0m         failures \u001B[38;5;241m+\u001B[39m\u001B[38;5;241m=\u001B[39m \u001B[38;5;241m1\u001B[39m\n",
      "File \u001B[1;32m~\\Desktop\\BitrixWork\\VoiceToText\\.venv\\Lib\\site-packages\\redis\\client.py:842\u001B[0m, in \u001B[0;36mPubSub._execute.<locals>.<lambda>\u001B[1;34m()\u001B[0m\n\u001B[0;32m    833\u001B[0m \u001B[38;5;28;01mdef\u001B[39;00m \u001B[38;5;21m_execute\u001B[39m(\u001B[38;5;28mself\u001B[39m, conn, command, \u001B[38;5;241m*\u001B[39margs, \u001B[38;5;241m*\u001B[39m\u001B[38;5;241m*\u001B[39mkwargs):\n\u001B[0;32m    834\u001B[0m \u001B[38;5;250m    \u001B[39m\u001B[38;5;124;03m\"\"\"\u001B[39;00m\n\u001B[0;32m    835\u001B[0m \u001B[38;5;124;03m    Connect manually upon disconnection. If the Redis server is down,\u001B[39;00m\n\u001B[0;32m    836\u001B[0m \u001B[38;5;124;03m    this will fail and raise a ConnectionError as desired.\u001B[39;00m\n\u001B[1;32m   (...)\u001B[0m\n\u001B[0;32m    839\u001B[0m \u001B[38;5;124;03m    patterns we were previously listening to\u001B[39;00m\n\u001B[0;32m    840\u001B[0m \u001B[38;5;124;03m    \"\"\"\u001B[39;00m\n\u001B[0;32m    841\u001B[0m     \u001B[38;5;28;01mreturn\u001B[39;00m conn\u001B[38;5;241m.\u001B[39mretry\u001B[38;5;241m.\u001B[39mcall_with_retry(\n\u001B[1;32m--> 842\u001B[0m         \u001B[38;5;28;01mlambda\u001B[39;00m: \u001B[43mcommand\u001B[49m\u001B[43m(\u001B[49m\u001B[38;5;241;43m*\u001B[39;49m\u001B[43margs\u001B[49m\u001B[43m,\u001B[49m\u001B[43m \u001B[49m\u001B[38;5;241;43m*\u001B[39;49m\u001B[38;5;241;43m*\u001B[39;49m\u001B[43mkwargs\u001B[49m\u001B[43m)\u001B[49m,\n\u001B[0;32m    843\u001B[0m         \u001B[38;5;28;01mlambda\u001B[39;00m error: \u001B[38;5;28mself\u001B[39m\u001B[38;5;241m.\u001B[39m_disconnect_raise_connect(conn, error),\n\u001B[0;32m    844\u001B[0m     )\n",
      "File \u001B[1;32m~\\Desktop\\BitrixWork\\VoiceToText\\.venv\\Lib\\site-packages\\redis\\client.py:859\u001B[0m, in \u001B[0;36mPubSub.parse_response.<locals>.try_read\u001B[1;34m()\u001B[0m\n\u001B[0;32m    857\u001B[0m \u001B[38;5;28;01mdef\u001B[39;00m \u001B[38;5;21mtry_read\u001B[39m():\n\u001B[0;32m    858\u001B[0m     \u001B[38;5;28;01mif\u001B[39;00m \u001B[38;5;129;01mnot\u001B[39;00m block:\n\u001B[1;32m--> 859\u001B[0m         \u001B[38;5;28;01mif\u001B[39;00m \u001B[38;5;129;01mnot\u001B[39;00m \u001B[43mconn\u001B[49m\u001B[38;5;241;43m.\u001B[39;49m\u001B[43mcan_read\u001B[49m\u001B[43m(\u001B[49m\u001B[43mtimeout\u001B[49m\u001B[38;5;241;43m=\u001B[39;49m\u001B[43mtimeout\u001B[49m\u001B[43m)\u001B[49m:\n\u001B[0;32m    860\u001B[0m             \u001B[38;5;28;01mreturn\u001B[39;00m \u001B[38;5;28;01mNone\u001B[39;00m\n\u001B[0;32m    861\u001B[0m     \u001B[38;5;28;01melse\u001B[39;00m:\n",
      "File \u001B[1;32m~\\Desktop\\BitrixWork\\VoiceToText\\.venv\\Lib\\site-packages\\redis\\connection.py:570\u001B[0m, in \u001B[0;36mAbstractConnection.can_read\u001B[1;34m(self, timeout)\u001B[0m\n\u001B[0;32m    567\u001B[0m host_error \u001B[38;5;241m=\u001B[39m \u001B[38;5;28mself\u001B[39m\u001B[38;5;241m.\u001B[39m_host_error()\n\u001B[0;32m    569\u001B[0m \u001B[38;5;28;01mtry\u001B[39;00m:\n\u001B[1;32m--> 570\u001B[0m     \u001B[38;5;28;01mreturn\u001B[39;00m \u001B[38;5;28;43mself\u001B[39;49m\u001B[38;5;241;43m.\u001B[39;49m\u001B[43m_parser\u001B[49m\u001B[38;5;241;43m.\u001B[39;49m\u001B[43mcan_read\u001B[49m\u001B[43m(\u001B[49m\u001B[43mtimeout\u001B[49m\u001B[43m)\u001B[49m\n\u001B[0;32m    571\u001B[0m \u001B[38;5;28;01mexcept\u001B[39;00m \u001B[38;5;167;01mOSError\u001B[39;00m \u001B[38;5;28;01mas\u001B[39;00m e:\n\u001B[0;32m    572\u001B[0m     \u001B[38;5;28mself\u001B[39m\u001B[38;5;241m.\u001B[39mdisconnect()\n",
      "File \u001B[1;32m~\\Desktop\\BitrixWork\\VoiceToText\\.venv\\Lib\\site-packages\\redis\\_parsers\\base.py:128\u001B[0m, in \u001B[0;36m_RESPBase.can_read\u001B[1;34m(self, timeout)\u001B[0m\n\u001B[0;32m    127\u001B[0m \u001B[38;5;28;01mdef\u001B[39;00m \u001B[38;5;21mcan_read\u001B[39m(\u001B[38;5;28mself\u001B[39m, timeout):\n\u001B[1;32m--> 128\u001B[0m     \u001B[38;5;28;01mreturn\u001B[39;00m \u001B[38;5;28mself\u001B[39m\u001B[38;5;241m.\u001B[39m_buffer \u001B[38;5;129;01mand\u001B[39;00m \u001B[38;5;28;43mself\u001B[39;49m\u001B[38;5;241;43m.\u001B[39;49m\u001B[43m_buffer\u001B[49m\u001B[38;5;241;43m.\u001B[39;49m\u001B[43mcan_read\u001B[49m\u001B[43m(\u001B[49m\u001B[43mtimeout\u001B[49m\u001B[43m)\u001B[49m\n",
      "File \u001B[1;32m~\\Desktop\\BitrixWork\\VoiceToText\\.venv\\Lib\\site-packages\\redis\\_parsers\\socket.py:95\u001B[0m, in \u001B[0;36mSocketBuffer.can_read\u001B[1;34m(self, timeout)\u001B[0m\n\u001B[0;32m     94\u001B[0m \u001B[38;5;28;01mdef\u001B[39;00m \u001B[38;5;21mcan_read\u001B[39m(\u001B[38;5;28mself\u001B[39m, timeout: \u001B[38;5;28mfloat\u001B[39m) \u001B[38;5;241m-\u001B[39m\u001B[38;5;241m>\u001B[39m \u001B[38;5;28mbool\u001B[39m:\n\u001B[1;32m---> 95\u001B[0m     \u001B[38;5;28;01mreturn\u001B[39;00m \u001B[38;5;28mbool\u001B[39m(\u001B[38;5;28mself\u001B[39m\u001B[38;5;241m.\u001B[39munread_bytes()) \u001B[38;5;129;01mor\u001B[39;00m \u001B[38;5;28;43mself\u001B[39;49m\u001B[38;5;241;43m.\u001B[39;49m\u001B[43m_read_from_socket\u001B[49m\u001B[43m(\u001B[49m\n\u001B[0;32m     96\u001B[0m \u001B[43m        \u001B[49m\u001B[43mtimeout\u001B[49m\u001B[38;5;241;43m=\u001B[39;49m\u001B[43mtimeout\u001B[49m\u001B[43m,\u001B[49m\u001B[43m \u001B[49m\u001B[43mraise_on_timeout\u001B[49m\u001B[38;5;241;43m=\u001B[39;49m\u001B[38;5;28;43;01mFalse\u001B[39;49;00m\n\u001B[0;32m     97\u001B[0m \u001B[43m    \u001B[49m\u001B[43m)\u001B[49m\n",
      "File \u001B[1;32m~\\Desktop\\BitrixWork\\VoiceToText\\.venv\\Lib\\site-packages\\redis\\_parsers\\socket.py:90\u001B[0m, in \u001B[0;36mSocketBuffer._read_from_socket\u001B[1;34m(self, length, timeout, raise_on_timeout)\u001B[0m\n\u001B[0;32m     88\u001B[0m     \u001B[38;5;28;01mraise\u001B[39;00m \u001B[38;5;167;01mConnectionError\u001B[39;00m(\u001B[38;5;124mf\u001B[39m\u001B[38;5;124m\"\u001B[39m\u001B[38;5;124mError while reading from socket: \u001B[39m\u001B[38;5;132;01m{\u001B[39;00mex\u001B[38;5;241m.\u001B[39margs\u001B[38;5;132;01m}\u001B[39;00m\u001B[38;5;124m\"\u001B[39m)\n\u001B[0;32m     89\u001B[0m \u001B[38;5;28;01mfinally\u001B[39;00m:\n\u001B[1;32m---> 90\u001B[0m     \u001B[43mbuf\u001B[49m\u001B[38;5;241;43m.\u001B[39;49m\u001B[43mseek\u001B[49m\u001B[43m(\u001B[49m\u001B[43mcurrent_pos\u001B[49m\u001B[43m)\u001B[49m\n\u001B[0;32m     91\u001B[0m     \u001B[38;5;28;01mif\u001B[39;00m custom_timeout:\n\u001B[0;32m     92\u001B[0m         sock\u001B[38;5;241m.\u001B[39msettimeout(\u001B[38;5;28mself\u001B[39m\u001B[38;5;241m.\u001B[39msocket_timeout)\n",
      "\u001B[1;31mKeyboardInterrupt\u001B[0m: "
     ]
    }
   ],
   "execution_count": 6
  },
  {
   "metadata": {},
   "cell_type": "code",
   "outputs": [],
   "execution_count": null,
   "source": "",
   "id": "9cf99945b1de43a8"
  }
 ],
 "metadata": {
  "kernelspec": {
   "display_name": "Python 3",
   "language": "python",
   "name": "python3"
  },
  "language_info": {
   "codemirror_mode": {
    "name": "ipython",
    "version": 2
   },
   "file_extension": ".py",
   "mimetype": "text/x-python",
   "name": "python",
   "nbconvert_exporter": "python",
   "pygments_lexer": "ipython2",
   "version": "2.7.6"
  }
 },
 "nbformat": 4,
 "nbformat_minor": 5
}
